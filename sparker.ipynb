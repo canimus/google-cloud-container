{
 "cells": [
  {
   "cell_type": "code",
   "execution_count": 2,
   "id": "51d03949-aff4-4483-a27f-3abd0e6bc57a",
   "metadata": {},
   "outputs": [],
   "source": [
    "import warnings\n",
    "warnings.simplefilter(\"ignore\")\n",
    "from pyspark.sql import SparkSession, DataFrame, Row\n",
    "from pyspark.conf import SparkConf\n",
    "import pyspark.sql.functions as F\n",
    "from pyspark.sql import Window as W\n",
    "import pyspark.sql.types as T\n",
    "\n",
    "\n",
    "# Create a SparkConf object\n",
    "conf = (\n",
    "        SparkConf()\n",
    "            .setAppName(\"JupyterLab\")\n",
    "            .setMaster(\"local[20]\")\n",
    "            .set(\"spark.driver.memory\", \"80g\")\n",
    "            .set(\"spark.driver.extraJavaOptions\", \"-Dlog4j.configuration=file:///conf/log4j.properties\")\n",
    "            .set(\"spark.jars\", \"/libs/spark-bigquery-with-dependencies_2.12-0.35.1.jar,/libs/gcs-connector-hadoop3-2.2.19-shaded.jar,/libs/delta-spark_2.12-3.0.0.jar,/libs/delta-storage-3.0.0.jar\")\n",
    "            .set(\"spark.hadoop.fs.gs.impl\", \"com.google.cloud.hadoop.fs.gcs.GoogleHadoopFileSystem\")\n",
    "            .set(\"spark.hadoop.fs.gs.project.id\", \"google-project-name\")\n",
    "            .set(\"spark.hadoop.google.cloud.auth.service.account.enable\", \"true\")\n",
    "            .set(\"spark.hadoop.google.cloud.auth.service.account.json.keyfile\", \"token.json\")\n",
    "            .set(\"spark.sql.session.timeZone\", \"UTC\")\n",
    "            .set(\"spark.ui.showConsoleProgress\", \"false\")\n",
    "            .set(\"spark.sql.extensions\", \"io.delta.sql.DeltaSparkSessionExtension\")\n",
    "            .set(\"spark.sql.catalog.spark_catalog\", \"org.apache.spark.sql.delta.catalog.DeltaCatalog\")\n",
    ")\n",
    "\n",
    "\n",
    "spark = (\n",
    "    SparkSession\n",
    "    .builder\n",
    "    .config(conf=conf)\n",
    "    .getOrCreate()\n",
    ")\n",
    "\n",
    "from IPython.core.display import HTML\n",
    "display(HTML(\"<style>pre { white-space: pre !important; }</style>\"))\n",
    "\n",
    "spark\n"
   ]
  },
  {
   "cell_type": "code",
   "execution_count": null,
   "id": "15167dbd-c8f8-4c6d-9c5c-a7599fc6920b",
   "metadata": {},
   "outputs": [],
   "source": []
  }
 ],
 "metadata": {
  "kernelspec": {
   "display_name": "Python 3 (ipykernel)",
   "language": "python",
   "name": "python3"
  },
  "language_info": {
   "codemirror_mode": {
    "name": "ipython",
    "version": 3
   },
   "file_extension": ".py",
   "mimetype": "text/x-python",
   "name": "python",
   "nbconvert_exporter": "python",
   "pygments_lexer": "ipython3",
   "version": "3.11.3"
  }
 },
 "nbformat": 4,
 "nbformat_minor": 5
}
