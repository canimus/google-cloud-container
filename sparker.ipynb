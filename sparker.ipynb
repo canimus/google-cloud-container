{
 "cells": [
  {
   "cell_type": "code",
   "execution_count": 2,
   "id": "51d03949-aff4-4483-a27f-3abd0e6bc57a",
   "metadata": {},
   "outputs": [],
   "source": [
    "import warnings",
    "warnings.simplefilter(\"ignore\")",
    "from pyspark.sql import SparkSession, DataFrame, Row",
    "from pyspark.conf import SparkConf",
    "import pyspark.sql.functions as F",
    "from pyspark.sql import Window as W",
    "import pyspark.sql.types as T",
    "",
    "",
    "# Create a SparkConf object",
    "conf = (",
    "        SparkConf()",
    "            .setAppName(\"JupyterLab\")",
    "            .setMaster(\"local[20]\")",
    "            .set(\"spark.driver.memory\", \"80g\")",
    "            .set(\"spark.driver.extraJavaOptions\", \"-Dlog4j.configuration=file:///conf/log4j.properties\")",
    "            .set(\"spark.jars\", \"/libs/spark-bigquery-with-dependencies_2.12-0.32.2.jar,/libs/gcs-connector-hadoop3-2.2.17-shaded.jar,/libs/delta-core_2.12-2.4.0.jar,/libs/delta-storage-2.4.0.jar\")",
    "            .set(\"spark.hadoop.fs.gs.impl\", \"com.google.cloud.hadoop.fs.gcs.GoogleHadoopFileSystem\")",
    "            .set(\"spark.hadoop.fs.gs.project.id\", \"google-project-name\")",
    "            .set(\"spark.hadoop.google.cloud.auth.service.account.enable\", \"true\")",
    "            .set(\"spark.hadoop.google.cloud.auth.service.account.json.keyfile\", \"token.json\")",
    "            .set(\"spark.sql.session.timeZone\", \"UTC\")",
    "            .set(\"spark.ui.showConsoleProgress\", \"false\")",
    "            .set(\"spark.sql.extensions\", \"io.delta.sql.DeltaSparkSessionExtension\")",
    "            .set(\"spark.sql.catalog.spark_catalog\", \"org.apache.spark.sql.delta.catalog.DeltaCatalog\")",
    ")",
    "",
    "",
    "spark = (",
    "    SparkSession",
    "    .builder",
    "    .config(conf=conf)",
    "    .getOrCreate()",
    ")"
   ]
  },
  {
   "cell_type": "code",
   "execution_count": null,
   "id": "15167dbd-c8f8-4c6d-9c5c-a7599fc6920b",
   "metadata": {},
   "outputs": [],
   "source": []
  }
 ],
 "metadata": {
  "kernelspec": {
   "display_name": "Python 3 (ipykernel)",
   "language": "python",
   "name": "python3"
  },
  "language_info": {
   "codemirror_mode": {
    "name": "ipython",
    "version": 3
   },
   "file_extension": ".py",
   "mimetype": "text/x-python",
   "name": "python",
   "nbconvert_exporter": "python",
   "pygments_lexer": "ipython3",
   "version": "3.11.3"
  }
 },
 "nbformat": 4,
 "nbformat_minor": 5
}
